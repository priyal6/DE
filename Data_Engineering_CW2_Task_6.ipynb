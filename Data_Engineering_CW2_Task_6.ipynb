{
  "nbformat": 4,
  "nbformat_minor": 0,
  "metadata": {
    "colab": {
      "provenance": []
    },
    "kernelspec": {
      "name": "python3",
      "display_name": "Python 3"
    },
    "language_info": {
      "name": "python"
    }
  },
  "cells": [
    {
      "cell_type": "code",
      "execution_count": 14,
      "metadata": {
        "id": "fts1as0p3vSe"
      },
      "outputs": [],
      "source": [
        "import pandas as pd"
      ]
    },
    {
      "cell_type": "code",
      "source": [
        "df1 = pd.read_csv('1083.csv')\n",
        "df2 = pd.read_csv('1415.csv')"
      ],
      "metadata": {
        "id": "ryjgUcZr7FfT"
      },
      "execution_count": 15,
      "outputs": []
    },
    {
      "source": [
        "#Creating 'DateTime' column in df1 and df2\n",
        "df1['DateTime'] = pd.to_datetime(df1['Date'], infer_datetime_format=True, errors='coerce')\n",
        "df2['DateTime'] = pd.to_datetime(df2['Date'], infer_datetime_format=True, errors='coerce')\n",
        "\n",
        "# Filtering the DataFrames\n",
        "df1_filtered = df1[(df1['DateTime'].dt.weekday == 4) &\n",
        "                                 (df1['DateTime'].dt.hour == 17) &  # Use DateTime column for hour\n",
        "                                 (df1['Direction Name'] == 'North')]\n",
        "\n",
        "df2_filtered = df2[(df2['DateTime'].dt.weekday == 4) &\n",
        "                                 (df2['DateTime'].dt.hour == 17) &  # Use DateTime column for hour\n",
        "                                 (df2['Direction Name'] == 'North')]"
      ],
      "cell_type": "code",
      "metadata": {
        "colab": {
          "base_uri": "https://localhost:8080/"
        },
        "id": "WCzAMXIfj9J7",
        "outputId": "f983596a-ed69-4476-a0cf-06fd2c0eddf4"
      },
      "execution_count": 16,
      "outputs": [
        {
          "output_type": "stream",
          "name": "stderr",
          "text": [
            "<ipython-input-16-d4dd18f8f07e>:2: UserWarning: The argument 'infer_datetime_format' is deprecated and will be removed in a future version. A strict version of it is now the default, see https://pandas.pydata.org/pdeps/0004-consistent-to-datetime-parsing.html. You can safely remove this argument.\n",
            "  df1['DateTime'] = pd.to_datetime(df1['Date'], infer_datetime_format=True, errors='coerce')\n",
            "<ipython-input-16-d4dd18f8f07e>:3: UserWarning: The argument 'infer_datetime_format' is deprecated and will be removed in a future version. A strict version of it is now the default, see https://pandas.pydata.org/pdeps/0004-consistent-to-datetime-parsing.html. You can safely remove this argument.\n",
            "  df2['DateTime'] = pd.to_datetime(df2['Date'], infer_datetime_format=True, errors='coerce')\n"
          ]
        }
      ]
    },
    {
      "cell_type": "code",
      "source": [
        "df1['Flag Text'] = df1['DateTime'].dt.day_name()\n",
        "df2['Flag Text'] = df2['DateTime'].dt.day_name()"
      ],
      "metadata": {
        "id": "nZ-qYXKMnOyg"
      },
      "execution_count": 17,
      "outputs": []
    },
    {
      "cell_type": "code",
      "source": [
        "# Extracting day of week\n",
        "df1['Flags'] = df1['DateTime'].dt.dayofweek + 1\n",
        "df2['Flags'] = df2['DateTime'].dt.dayofweek + 1"
      ],
      "metadata": {
        "id": "jklkB49PnJZd"
      },
      "execution_count": 18,
      "outputs": []
    },
    {
      "cell_type": "code",
      "source": [
        "df1.head()"
      ],
      "metadata": {
        "colab": {
          "base_uri": "https://localhost:8080/",
          "height": 310
        },
        "id": "d0YZuUGCnJe5",
        "outputId": "65791122-8555-466b-9293-03825010736b"
      },
      "execution_count": 19,
      "outputs": [
        {
          "output_type": "execute_result",
          "data": {
            "text/plain": [
              "                         Date  Lane Lane Name  Direction Direction Name  \\\n",
              "0  2018-02-02 00:00:03.050000     6     SB_NS          2          South   \n",
              "1  2018-02-02 00:00:22.010000     5    SB_MID          2          South   \n",
              "2  2018-02-02 00:00:22.020000     4     SB_OS          2          South   \n",
              "3  2018-02-02 00:00:36.040000     6     SB_NS          2          South   \n",
              "4  2018-02-02 00:00:49.070000     6     SB_NS          2          South   \n",
              "\n",
              "   Speed (mph)  Headway (s)  Gap (s)  Flags Flag Text                DateTime  \n",
              "0       38.525          NaN      NaN    5.0    Friday 2018-02-02 00:00:03.050  \n",
              "1       32.310          NaN      NaN    5.0    Friday 2018-02-02 00:00:22.010  \n",
              "2       44.739          NaN      NaN    5.0    Friday 2018-02-02 00:00:22.020  \n",
              "3       33.554          NaN      NaN    5.0    Friday 2018-02-02 00:00:36.040  \n",
              "4       39.768         12.3   11.847    5.0    Friday 2018-02-02 00:00:49.070  "
            ],
            "text/html": [
              "\n",
              "  <div id=\"df-dc23ad99-3ce6-4367-be5a-77cea9c857df\" class=\"colab-df-container\">\n",
              "    <div>\n",
              "<style scoped>\n",
              "    .dataframe tbody tr th:only-of-type {\n",
              "        vertical-align: middle;\n",
              "    }\n",
              "\n",
              "    .dataframe tbody tr th {\n",
              "        vertical-align: top;\n",
              "    }\n",
              "\n",
              "    .dataframe thead th {\n",
              "        text-align: right;\n",
              "    }\n",
              "</style>\n",
              "<table border=\"1\" class=\"dataframe\">\n",
              "  <thead>\n",
              "    <tr style=\"text-align: right;\">\n",
              "      <th></th>\n",
              "      <th>Date</th>\n",
              "      <th>Lane</th>\n",
              "      <th>Lane Name</th>\n",
              "      <th>Direction</th>\n",
              "      <th>Direction Name</th>\n",
              "      <th>Speed (mph)</th>\n",
              "      <th>Headway (s)</th>\n",
              "      <th>Gap (s)</th>\n",
              "      <th>Flags</th>\n",
              "      <th>Flag Text</th>\n",
              "      <th>DateTime</th>\n",
              "    </tr>\n",
              "  </thead>\n",
              "  <tbody>\n",
              "    <tr>\n",
              "      <th>0</th>\n",
              "      <td>2018-02-02 00:00:03.050000</td>\n",
              "      <td>6</td>\n",
              "      <td>SB_NS</td>\n",
              "      <td>2</td>\n",
              "      <td>South</td>\n",
              "      <td>38.525</td>\n",
              "      <td>NaN</td>\n",
              "      <td>NaN</td>\n",
              "      <td>5.0</td>\n",
              "      <td>Friday</td>\n",
              "      <td>2018-02-02 00:00:03.050</td>\n",
              "    </tr>\n",
              "    <tr>\n",
              "      <th>1</th>\n",
              "      <td>2018-02-02 00:00:22.010000</td>\n",
              "      <td>5</td>\n",
              "      <td>SB_MID</td>\n",
              "      <td>2</td>\n",
              "      <td>South</td>\n",
              "      <td>32.310</td>\n",
              "      <td>NaN</td>\n",
              "      <td>NaN</td>\n",
              "      <td>5.0</td>\n",
              "      <td>Friday</td>\n",
              "      <td>2018-02-02 00:00:22.010</td>\n",
              "    </tr>\n",
              "    <tr>\n",
              "      <th>2</th>\n",
              "      <td>2018-02-02 00:00:22.020000</td>\n",
              "      <td>4</td>\n",
              "      <td>SB_OS</td>\n",
              "      <td>2</td>\n",
              "      <td>South</td>\n",
              "      <td>44.739</td>\n",
              "      <td>NaN</td>\n",
              "      <td>NaN</td>\n",
              "      <td>5.0</td>\n",
              "      <td>Friday</td>\n",
              "      <td>2018-02-02 00:00:22.020</td>\n",
              "    </tr>\n",
              "    <tr>\n",
              "      <th>3</th>\n",
              "      <td>2018-02-02 00:00:36.040000</td>\n",
              "      <td>6</td>\n",
              "      <td>SB_NS</td>\n",
              "      <td>2</td>\n",
              "      <td>South</td>\n",
              "      <td>33.554</td>\n",
              "      <td>NaN</td>\n",
              "      <td>NaN</td>\n",
              "      <td>5.0</td>\n",
              "      <td>Friday</td>\n",
              "      <td>2018-02-02 00:00:36.040</td>\n",
              "    </tr>\n",
              "    <tr>\n",
              "      <th>4</th>\n",
              "      <td>2018-02-02 00:00:49.070000</td>\n",
              "      <td>6</td>\n",
              "      <td>SB_NS</td>\n",
              "      <td>2</td>\n",
              "      <td>South</td>\n",
              "      <td>39.768</td>\n",
              "      <td>12.3</td>\n",
              "      <td>11.847</td>\n",
              "      <td>5.0</td>\n",
              "      <td>Friday</td>\n",
              "      <td>2018-02-02 00:00:49.070</td>\n",
              "    </tr>\n",
              "  </tbody>\n",
              "</table>\n",
              "</div>\n",
              "    <div class=\"colab-df-buttons\">\n",
              "\n",
              "  <div class=\"colab-df-container\">\n",
              "    <button class=\"colab-df-convert\" onclick=\"convertToInteractive('df-dc23ad99-3ce6-4367-be5a-77cea9c857df')\"\n",
              "            title=\"Convert this dataframe to an interactive table.\"\n",
              "            style=\"display:none;\">\n",
              "\n",
              "  <svg xmlns=\"http://www.w3.org/2000/svg\" height=\"24px\" viewBox=\"0 -960 960 960\">\n",
              "    <path d=\"M120-120v-720h720v720H120Zm60-500h600v-160H180v160Zm220 220h160v-160H400v160Zm0 220h160v-160H400v160ZM180-400h160v-160H180v160Zm440 0h160v-160H620v160ZM180-180h160v-160H180v160Zm440 0h160v-160H620v160Z\"/>\n",
              "  </svg>\n",
              "    </button>\n",
              "\n",
              "  <style>\n",
              "    .colab-df-container {\n",
              "      display:flex;\n",
              "      gap: 12px;\n",
              "    }\n",
              "\n",
              "    .colab-df-convert {\n",
              "      background-color: #E8F0FE;\n",
              "      border: none;\n",
              "      border-radius: 50%;\n",
              "      cursor: pointer;\n",
              "      display: none;\n",
              "      fill: #1967D2;\n",
              "      height: 32px;\n",
              "      padding: 0 0 0 0;\n",
              "      width: 32px;\n",
              "    }\n",
              "\n",
              "    .colab-df-convert:hover {\n",
              "      background-color: #E2EBFA;\n",
              "      box-shadow: 0px 1px 2px rgba(60, 64, 67, 0.3), 0px 1px 3px 1px rgba(60, 64, 67, 0.15);\n",
              "      fill: #174EA6;\n",
              "    }\n",
              "\n",
              "    .colab-df-buttons div {\n",
              "      margin-bottom: 4px;\n",
              "    }\n",
              "\n",
              "    [theme=dark] .colab-df-convert {\n",
              "      background-color: #3B4455;\n",
              "      fill: #D2E3FC;\n",
              "    }\n",
              "\n",
              "    [theme=dark] .colab-df-convert:hover {\n",
              "      background-color: #434B5C;\n",
              "      box-shadow: 0px 1px 3px 1px rgba(0, 0, 0, 0.15);\n",
              "      filter: drop-shadow(0px 1px 2px rgba(0, 0, 0, 0.3));\n",
              "      fill: #FFFFFF;\n",
              "    }\n",
              "  </style>\n",
              "\n",
              "    <script>\n",
              "      const buttonEl =\n",
              "        document.querySelector('#df-dc23ad99-3ce6-4367-be5a-77cea9c857df button.colab-df-convert');\n",
              "      buttonEl.style.display =\n",
              "        google.colab.kernel.accessAllowed ? 'block' : 'none';\n",
              "\n",
              "      async function convertToInteractive(key) {\n",
              "        const element = document.querySelector('#df-dc23ad99-3ce6-4367-be5a-77cea9c857df');\n",
              "        const dataTable =\n",
              "          await google.colab.kernel.invokeFunction('convertToInteractive',\n",
              "                                                    [key], {});\n",
              "        if (!dataTable) return;\n",
              "\n",
              "        const docLinkHtml = 'Like what you see? Visit the ' +\n",
              "          '<a target=\"_blank\" href=https://colab.research.google.com/notebooks/data_table.ipynb>data table notebook</a>'\n",
              "          + ' to learn more about interactive tables.';\n",
              "        element.innerHTML = '';\n",
              "        dataTable['output_type'] = 'display_data';\n",
              "        await google.colab.output.renderOutput(dataTable, element);\n",
              "        const docLink = document.createElement('div');\n",
              "        docLink.innerHTML = docLinkHtml;\n",
              "        element.appendChild(docLink);\n",
              "      }\n",
              "    </script>\n",
              "  </div>\n",
              "\n",
              "\n",
              "<div id=\"df-337ebb3c-1fbb-4b6b-bf1e-a636285e22ce\">\n",
              "  <button class=\"colab-df-quickchart\" onclick=\"quickchart('df-337ebb3c-1fbb-4b6b-bf1e-a636285e22ce')\"\n",
              "            title=\"Suggest charts\"\n",
              "            style=\"display:none;\">\n",
              "\n",
              "<svg xmlns=\"http://www.w3.org/2000/svg\" height=\"24px\"viewBox=\"0 0 24 24\"\n",
              "     width=\"24px\">\n",
              "    <g>\n",
              "        <path d=\"M19 3H5c-1.1 0-2 .9-2 2v14c0 1.1.9 2 2 2h14c1.1 0 2-.9 2-2V5c0-1.1-.9-2-2-2zM9 17H7v-7h2v7zm4 0h-2V7h2v10zm4 0h-2v-4h2v4z\"/>\n",
              "    </g>\n",
              "</svg>\n",
              "  </button>\n",
              "\n",
              "<style>\n",
              "  .colab-df-quickchart {\n",
              "      --bg-color: #E8F0FE;\n",
              "      --fill-color: #1967D2;\n",
              "      --hover-bg-color: #E2EBFA;\n",
              "      --hover-fill-color: #174EA6;\n",
              "      --disabled-fill-color: #AAA;\n",
              "      --disabled-bg-color: #DDD;\n",
              "  }\n",
              "\n",
              "  [theme=dark] .colab-df-quickchart {\n",
              "      --bg-color: #3B4455;\n",
              "      --fill-color: #D2E3FC;\n",
              "      --hover-bg-color: #434B5C;\n",
              "      --hover-fill-color: #FFFFFF;\n",
              "      --disabled-bg-color: #3B4455;\n",
              "      --disabled-fill-color: #666;\n",
              "  }\n",
              "\n",
              "  .colab-df-quickchart {\n",
              "    background-color: var(--bg-color);\n",
              "    border: none;\n",
              "    border-radius: 50%;\n",
              "    cursor: pointer;\n",
              "    display: none;\n",
              "    fill: var(--fill-color);\n",
              "    height: 32px;\n",
              "    padding: 0;\n",
              "    width: 32px;\n",
              "  }\n",
              "\n",
              "  .colab-df-quickchart:hover {\n",
              "    background-color: var(--hover-bg-color);\n",
              "    box-shadow: 0 1px 2px rgba(60, 64, 67, 0.3), 0 1px 3px 1px rgba(60, 64, 67, 0.15);\n",
              "    fill: var(--button-hover-fill-color);\n",
              "  }\n",
              "\n",
              "  .colab-df-quickchart-complete:disabled,\n",
              "  .colab-df-quickchart-complete:disabled:hover {\n",
              "    background-color: var(--disabled-bg-color);\n",
              "    fill: var(--disabled-fill-color);\n",
              "    box-shadow: none;\n",
              "  }\n",
              "\n",
              "  .colab-df-spinner {\n",
              "    border: 2px solid var(--fill-color);\n",
              "    border-color: transparent;\n",
              "    border-bottom-color: var(--fill-color);\n",
              "    animation:\n",
              "      spin 1s steps(1) infinite;\n",
              "  }\n",
              "\n",
              "  @keyframes spin {\n",
              "    0% {\n",
              "      border-color: transparent;\n",
              "      border-bottom-color: var(--fill-color);\n",
              "      border-left-color: var(--fill-color);\n",
              "    }\n",
              "    20% {\n",
              "      border-color: transparent;\n",
              "      border-left-color: var(--fill-color);\n",
              "      border-top-color: var(--fill-color);\n",
              "    }\n",
              "    30% {\n",
              "      border-color: transparent;\n",
              "      border-left-color: var(--fill-color);\n",
              "      border-top-color: var(--fill-color);\n",
              "      border-right-color: var(--fill-color);\n",
              "    }\n",
              "    40% {\n",
              "      border-color: transparent;\n",
              "      border-right-color: var(--fill-color);\n",
              "      border-top-color: var(--fill-color);\n",
              "    }\n",
              "    60% {\n",
              "      border-color: transparent;\n",
              "      border-right-color: var(--fill-color);\n",
              "    }\n",
              "    80% {\n",
              "      border-color: transparent;\n",
              "      border-right-color: var(--fill-color);\n",
              "      border-bottom-color: var(--fill-color);\n",
              "    }\n",
              "    90% {\n",
              "      border-color: transparent;\n",
              "      border-bottom-color: var(--fill-color);\n",
              "    }\n",
              "  }\n",
              "</style>\n",
              "\n",
              "  <script>\n",
              "    async function quickchart(key) {\n",
              "      const quickchartButtonEl =\n",
              "        document.querySelector('#' + key + ' button');\n",
              "      quickchartButtonEl.disabled = true;  // To prevent multiple clicks.\n",
              "      quickchartButtonEl.classList.add('colab-df-spinner');\n",
              "      try {\n",
              "        const charts = await google.colab.kernel.invokeFunction(\n",
              "            'suggestCharts', [key], {});\n",
              "      } catch (error) {\n",
              "        console.error('Error during call to suggestCharts:', error);\n",
              "      }\n",
              "      quickchartButtonEl.classList.remove('colab-df-spinner');\n",
              "      quickchartButtonEl.classList.add('colab-df-quickchart-complete');\n",
              "    }\n",
              "    (() => {\n",
              "      let quickchartButtonEl =\n",
              "        document.querySelector('#df-337ebb3c-1fbb-4b6b-bf1e-a636285e22ce button');\n",
              "      quickchartButtonEl.style.display =\n",
              "        google.colab.kernel.accessAllowed ? 'block' : 'none';\n",
              "    })();\n",
              "  </script>\n",
              "</div>\n",
              "\n",
              "    </div>\n",
              "  </div>\n"
            ],
            "application/vnd.google.colaboratory.intrinsic+json": {
              "type": "dataframe",
              "variable_name": "df1"
            }
          },
          "metadata": {},
          "execution_count": 19
        }
      ]
    },
    {
      "cell_type": "code",
      "source": [
        "# Filtering the data for Fridays between 17:00 and 17:59:59 for site 1083 and North lanes\n",
        "fri_83=df1[(df1['Flag Text']=='Friday') & (df1['DateTime'].dt.time>=pd.to_datetime('17:00:00').time()) &\n",
        " ((df1['DateTime'].dt.time<=pd.to_datetime('17:59:59').time())) & (df1['Direction Name']=='North')]"
      ],
      "metadata": {
        "id": "U9zOJiRunJjq"
      },
      "execution_count": 20,
      "outputs": []
    },
    {
      "cell_type": "code",
      "source": [
        "# Filtering the data for Fridays between 17:00 and 17:59:59 for site 1415 and North lanes\n",
        "fri_15=df2[(df2['Flag Text']=='Friday') & (df2['DateTime'].dt.time>=pd.to_datetime('17:00:00').time()) &\n",
        " ((df2['DateTime'].dt.time<=pd.to_datetime('17:59:59').time())) & (df2['Direction']==1)]"
      ],
      "metadata": {
        "id": "6g7QayZKnJoh"
      },
      "execution_count": 21,
      "outputs": []
    },
    {
      "cell_type": "code",
      "source": [
        "speed_83 = fri_83['Speed (mph)'].sum()\n",
        "speed_15 = fri_15['Speed (mph)'].sum()\n",
        "speed_83, speed_15"
      ],
      "metadata": {
        "colab": {
          "base_uri": "https://localhost:8080/"
        },
        "id": "Nir5HTjVoNC3",
        "outputId": "5744b4ab-f21f-4877-be7c-e471f71c3582"
      },
      "execution_count": 22,
      "outputs": [
        {
          "output_type": "execute_result",
          "data": {
            "text/plain": [
              "(251629.415, 116474.16200000001)"
            ]
          },
          "metadata": {},
          "execution_count": 22
        }
      ]
    },
    {
      "cell_type": "code",
      "source": [
        "# Calculating the average speed for both sites\n",
        "avg_speed = (speed_83+ speed_15) / (len(fri_83) + len(fri_15))"
      ],
      "metadata": {
        "id": "eZGiQEQyoSRq"
      },
      "execution_count": 23,
      "outputs": []
    },
    {
      "cell_type": "code",
      "source": [
        "avg_speed_kmph = avg_speed * 1.60934"
      ],
      "metadata": {
        "id": "_K4mEg8XoUzO"
      },
      "execution_count": 24,
      "outputs": []
    },
    {
      "cell_type": "code",
      "source": [
        "# Calculateing the Journey Time (JT) in minutes using the formula JT = distance / speed\n",
        "distance = 4.86\n",
        "jt_minutes = (distance / avg_speed_kmph) * 60"
      ],
      "metadata": {
        "id": "VAyiIDUFoXlX"
      },
      "execution_count": 25,
      "outputs": []
    },
    {
      "cell_type": "code",
      "source": [
        "print(f\"Average Speed: {avg_speed_kmph:.2f} km/h\")\n",
        "print(f\"Journey Time: {jt_minutes:.2f} minutes\")"
      ],
      "metadata": {
        "colab": {
          "base_uri": "https://localhost:8080/"
        },
        "id": "-4INiojsoZ8X",
        "outputId": "067db29b-6561-4289-df19-f217eeb1c86a"
      },
      "execution_count": 26,
      "outputs": [
        {
          "output_type": "stream",
          "name": "stdout",
          "text": [
            "Average Speed: 43.63 km/h\n",
            "Journey Time: 6.68 minutes\n"
          ]
        }
      ]
    }
  ]
}