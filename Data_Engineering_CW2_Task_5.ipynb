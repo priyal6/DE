{
  "nbformat": 4,
  "nbformat_minor": 0,
  "metadata": {
    "colab": {
      "provenance": []
    },
    "kernelspec": {
      "name": "python3",
      "display_name": "Python 3"
    },
    "language_info": {
      "name": "python"
    }
  },
  "cells": [
    {
      "cell_type": "markdown",
      "source": [
        "**TASK 5.I**"
      ],
      "metadata": {
        "id": "BtmgIJYLJQgC"
      }
    },
    {
      "cell_type": "code",
      "execution_count": 1,
      "metadata": {
        "id": "NTJFG45AFosh"
      },
      "outputs": [],
      "source": [
        "#importing pandas\n",
        "import pandas as pd"
      ]
    },
    {
      "cell_type": "code",
      "source": [
        "#reading the data\n",
        "df = pd.read_csv('rawpvr_2018-02-01_28d_1083 TueFri.csv')"
      ],
      "metadata": {
        "id": "c9Py4VZyHwYI"
      },
      "execution_count": 2,
      "outputs": []
    },
    {
      "cell_type": "code",
      "source": [
        "#conversion to datetime format\n",
        "df['DateTime'] = pd.to_datetime(df['Date'], infer_datetime_format=True, errors='coerce')"
      ],
      "metadata": {
        "colab": {
          "base_uri": "https://localhost:8080/"
        },
        "id": "Fg-u9gA0H3ES",
        "outputId": "25a97144-9f05-47ac-e5a7-2e1a94e409d4"
      },
      "execution_count": 3,
      "outputs": [
        {
          "output_type": "stream",
          "name": "stderr",
          "text": [
            "<ipython-input-3-261ea70a0101>:2: UserWarning: The argument 'infer_datetime_format' is deprecated and will be removed in a future version. A strict version of it is now the default, see https://pandas.pydata.org/pdeps/0004-consistent-to-datetime-parsing.html. You can safely remove this argument.\n",
            "  df['DateTime'] = pd.to_datetime(df['Date'], infer_datetime_format=True, errors='coerce')\n"
          ]
        }
      ]
    },
    {
      "cell_type": "code",
      "source": [
        "#filtering the dataframe according to the specified values\n",
        "filtered_df = df[(df['DateTime'].dt.day_name() == 'Tuesday') &\n",
        "                 (df['DateTime'].dt.hour >= 7) &\n",
        "                 (df['DateTime'].dt.hour < 19)]"
      ],
      "metadata": {
        "id": "Afh9t3FNI5AG"
      },
      "execution_count": 4,
      "outputs": []
    },
    {
      "cell_type": "code",
      "source": [
        "total_cells = len(filtered_df)"
      ],
      "metadata": {
        "id": "DNGf4jFnI_17"
      },
      "execution_count": 5,
      "outputs": []
    },
    {
      "cell_type": "code",
      "source": [
        "#checking up on the not null values of the Gap (s) column\n",
        "non_empty_cells = filtered_df['Gap (s)'].notna().sum()"
      ],
      "metadata": {
        "id": "LX_MZzYZJFrx"
      },
      "execution_count": 6,
      "outputs": []
    },
    {
      "cell_type": "code",
      "source": [
        "if total_cells > 0:  # To avoid division by zero\n",
        "    column_completeness = (non_empty_cells * 100) / total_cells\n",
        "    print(f\"Column Completeness for 'Gap (s)' on Tuesdays between 07:00 and 18:59:59: {column_completeness:.2f}%\")\n",
        "else:\n",
        "      print(\"No data available for the specified time period.\")\n"
      ],
      "metadata": {
        "colab": {
          "base_uri": "https://localhost:8080/"
        },
        "id": "BJTyek_pJJAn",
        "outputId": "05284f2c-f279-4986-e828-3daae5d3c5d8"
      },
      "execution_count": 7,
      "outputs": [
        {
          "output_type": "stream",
          "name": "stdout",
          "text": [
            "Column Completeness for 'Gap (s)' on Tuesdays between 07:00 and 18:59:59: 98.03%\n"
          ]
        }
      ]
    },
    {
      "cell_type": "markdown",
      "source": [
        "**TASK 5.II**"
      ],
      "metadata": {
        "id": "oAAhP066tdA6"
      }
    },
    {
      "cell_type": "code",
      "source": [
        "#df2 for task 5.2\n",
        "\n",
        "df2 = pd.read_csv('rawpvr_2018-02-01_28d_1083 TueFri.csv')"
      ],
      "metadata": {
        "id": "_HPitjGDti3K"
      },
      "execution_count": 8,
      "outputs": []
    },
    {
      "cell_type": "code",
      "source": [
        "df2['DateTime'] = pd.to_datetime(df2['Date'], infer_datetime_format=True, errors='coerce')"
      ],
      "metadata": {
        "colab": {
          "base_uri": "https://localhost:8080/"
        },
        "id": "b7d7JFp72qGp",
        "outputId": "6313ecec-527a-4094-9d62-729155809c55"
      },
      "execution_count": 9,
      "outputs": [
        {
          "output_type": "stream",
          "name": "stderr",
          "text": [
            "<ipython-input-9-fd5fb6e888ba>:1: UserWarning: The argument 'infer_datetime_format' is deprecated and will be removed in a future version. A strict version of it is now the default, see https://pandas.pydata.org/pdeps/0004-consistent-to-datetime-parsing.html. You can safely remove this argument.\n",
            "  df2['DateTime'] = pd.to_datetime(df2['Date'], infer_datetime_format=True, errors='coerce')\n"
          ]
        }
      ]
    },
    {
      "cell_type": "code",
      "source": [
        "# Filtering data for NB_MID lane (North direction), on Tuesdays between 07:00 and 18:59:59\n",
        "filtered_df2 = df2[(df2['Lane Name'] == 'NB_MID') &\n",
        "                 (df2['Direction Name'] == 'North') &\n",
        "                 (df2['DateTime'].dt.day_name() == 'Tuesday') &\n",
        "                 (df2['DateTime'].dt.hour >= 7) &\n",
        "                 (df2['DateTime'].dt.hour < 19)]"
      ],
      "metadata": {
        "id": "mb_cxBd127ZC"
      },
      "execution_count": 10,
      "outputs": []
    },
    {
      "cell_type": "code",
      "source": [
        "#describtion for the Gap (s) column\n",
        "gap_column_profile = filtered_df2['Gap (s)'].describe()"
      ],
      "metadata": {
        "id": "ItLAUGSW3Lqk"
      },
      "execution_count": 11,
      "outputs": []
    },
    {
      "cell_type": "code",
      "source": [
        "#checking for the missing gap in the Gap (s) column\n",
        "missing_gap_count = filtered_df2['Gap (s)'].isna().sum()"
      ],
      "metadata": {
        "id": "piKGbjGC3PbC"
      },
      "execution_count": 12,
      "outputs": []
    },
    {
      "cell_type": "code",
      "source": [
        "print(\"Profile of 'Gap (s)' column (non-missing values):\")\n",
        "print(gap_column_profile)\n",
        "print(f\"\\nNumber of missing values in 'Gap (s)': {missing_gap_count}\")"
      ],
      "metadata": {
        "colab": {
          "base_uri": "https://localhost:8080/"
        },
        "id": "-wTNkoTQ3SlH",
        "outputId": "a4cbe851-d69d-4d87-8bb8-03f354c7472e"
      },
      "execution_count": 13,
      "outputs": [
        {
          "output_type": "stream",
          "name": "stdout",
          "text": [
            "Profile of 'Gap (s)' column (non-missing values):\n",
            "count    30503.000000\n",
            "mean         4.384969\n",
            "std          6.273902\n",
            "min          0.006000\n",
            "25%          1.400000\n",
            "50%          2.268000\n",
            "75%          4.249000\n",
            "max         88.080000\n",
            "Name: Gap (s), dtype: float64\n",
            "\n",
            "Number of missing values in 'Gap (s)': 619\n"
          ]
        }
      ]
    },
    {
      "cell_type": "code",
      "source": [
        "# Displaying the mode which the most frequent value for the Gap (s) column\n",
        "mode_value = filtered_df2['Gap (s)'].mode()\n",
        "if not mode_value.empty:\n",
        "    print(f\"\\nMode of 'Gap (s)': {mode_value.values[0]}\")\n",
        "else:\n",
        "    print(\"\\nMode of 'Gap (s)': Not available (no mode)\")"
      ],
      "metadata": {
        "colab": {
          "base_uri": "https://localhost:8080/"
        },
        "id": "qJT_G6fl3aW3",
        "outputId": "c1aad516-6283-42e3-fb25-418b7ff15ad8"
      },
      "execution_count": 14,
      "outputs": [
        {
          "output_type": "stream",
          "name": "stdout",
          "text": [
            "\n",
            "Mode of 'Gap (s)': 1.24\n"
          ]
        }
      ]
    },
    {
      "cell_type": "code",
      "source": [
        "#a histogram to visualize distribution of 'Gap (s)'\n",
        "import matplotlib.pyplot as plt\n",
        "\n",
        "filtered_df['Gap (s)'].dropna().hist(bins=20)\n",
        "plt.title(\"Histogram of 'Gap (s)\")\n",
        "plt.xlabel(\"Gap (s)\")\n",
        "plt.ylabel(\"Frequency\")\n",
        "plt.show()"
      ],
      "metadata": {
        "colab": {
          "base_uri": "https://localhost:8080/",
          "height": 472
        },
        "id": "7RKXcARr3eAL",
        "outputId": "80cda643-9a5d-4015-d6cf-5f00e3fbdc10"
      },
      "execution_count": 22,
      "outputs": [
        {
          "output_type": "display_data",
          "data": {
            "text/plain": [
              "<Figure size 640x480 with 1 Axes>"
            ],
            "image/png": "[encoded data removed]"
          },
          "metadata": {}
        }
      ]
    },
    {
      "cell_type": "markdown",
      "source": [
        "**Task 5.III**"
      ],
      "metadata": {
        "id": "5r0TahSz2Cp6"
      }
    },
    {
      "cell_type": "code",
      "source": [
        "# Filtering data for NB_MID lane (North direction), on Tuesdays between 07:00 and 18:59:59\n",
        "filtered_df3 = df[(df['Lane Name'] == 'NB_MID') &\n",
        "                 (df['Direction Name'] == 'North') &\n",
        "                 (df['DateTime'].dt.day_name() == 'Tuesday') &\n",
        "                 (df['DateTime'].dt.hour >= 7) &\n",
        "                 (df['DateTime'].dt.hour < 19)]"
      ],
      "metadata": {
        "id": "iD5tct_p2GDY"
      },
      "execution_count": 16,
      "outputs": []
    },
    {
      "cell_type": "code",
      "source": [
        "# Calculating the median value of the 'Gap (s)' column\n",
        "median_gap = filtered_df3['Gap (s)'].median()\n"
      ],
      "metadata": {
        "id": "R7rXKRu-2b7W"
      },
      "execution_count": 17,
      "outputs": []
    },
    {
      "cell_type": "code",
      "source": [
        "filtered_df3['Gap (s)'].fillna(median_gap, inplace=True)"
      ],
      "metadata": {
        "colab": {
          "base_uri": "https://localhost:8080/"
        },
        "id": "4gpn08sv2lfF",
        "outputId": "6a8f3656-efde-4109-a71f-c9365104d9ac"
      },
      "execution_count": 18,
      "outputs": [
        {
          "output_type": "stream",
          "name": "stderr",
          "text": [
            "<ipython-input-18-646507b5c637>:1: FutureWarning: A value is trying to be set on a copy of a DataFrame or Series through chained assignment using an inplace method.\n",
            "The behavior will change in pandas 3.0. This inplace method will never work because the intermediate object on which we are setting values always behaves as a copy.\n",
            "\n",
            "For example, when doing 'df[col].method(value, inplace=True)', try using 'df.method({col: value}, inplace=True)' or df[col] = df[col].method(value) instead, to perform the operation inplace on the original object.\n",
            "\n",
            "\n",
            "  filtered_df3['Gap (s)'].fillna(median_gap, inplace=True)\n",
            "<ipython-input-18-646507b5c637>:1: SettingWithCopyWarning: \n",
            "A value is trying to be set on a copy of a slice from a DataFrame\n",
            "\n",
            "See the caveats in the documentation: https://pandas.pydata.org/pandas-docs/stable/user_guide/indexing.html#returning-a-view-versus-a-copy\n",
            "  filtered_df3['Gap (s)'].fillna(median_gap, inplace=True)\n"
          ]
        }
      ]
    },
    {
      "cell_type": "code",
      "source": [
        "gap_count_after_imputation = filtered_df3['Gap (s)'].isna().sum()"
      ],
      "metadata": {
        "id": "jpY2QLw42uFe"
      },
      "execution_count": 19,
      "outputs": []
    },
    {
      "cell_type": "code",
      "source": [
        "#checking for the gap count after the imputation for missing values in the gap column\n",
        "gap_count_after_imputation"
      ],
      "metadata": {
        "colab": {
          "base_uri": "https://localhost:8080/"
        },
        "id": "xOeQmYtw27oN",
        "outputId": "37a8f291-7e26-4cf2-d431-142ebe40ac7e"
      },
      "execution_count": 20,
      "outputs": [
        {
          "output_type": "execute_result",
          "data": {
            "text/plain": [
              "0"
            ]
          },
          "metadata": {},
          "execution_count": 20
        }
      ]
    },
    {
      "cell_type": "code",
      "source": [
        " print(f\"Median value used to fill missing values: {median_gap}\")\n",
        "print(f\"Number of missing values after imputation: {gap_count_after_imputation}\")\n"
      ],
      "metadata": {
        "colab": {
          "base_uri": "https://localhost:8080/"
        },
        "id": "SSFdgYEh2-gd",
        "outputId": "2d667e42-b09a-40bc-a7ed-c60095940c1b"
      },
      "execution_count": 21,
      "outputs": [
        {
          "output_type": "stream",
          "name": "stdout",
          "text": [
            "Median value used to fill missing values: 2.268\n",
            "Number of missing values after imputation: 0\n"
          ]
        }
      ]
    }
  ]
}