{
  "nbformat": 4,
  "nbformat_minor": 0,
  "metadata": {
    "colab": {
      "provenance": []
    },
    "kernelspec": {
      "name": "python3",
      "display_name": "Python 3"
    },
    "language_info": {
      "name": "python"
    }
  },
  "cells": [
    {
      "cell_type": "markdown",
      "source": [
        "**Task 3.I**"
      ],
      "metadata": {
        "id": "uSRZr1YKbWrD"
      }
    },
    {
      "cell_type": "code",
      "execution_count": 1,
      "metadata": {
        "id": "z5ucA49Ir4nH"
      },
      "outputs": [],
      "source": [
        "#Importing of the pandas framework to perform specified tasks\n",
        "import pandas as pd"
      ]
    },
    {
      "cell_type": "code",
      "source": [
        "#reading the data from the csv file, creating a dataframe variable for the same which is df and reading the file using.read_csv function\n",
        "df = pd.read_csv('rawpvr_2018-02-01_28d_1083 TueFri.csv')"
      ],
      "metadata": {
        "id": "qx_g6l4ssWfj"
      },
      "execution_count": 2,
      "outputs": []
    },
    {
      "cell_type": "code",
      "source": [
        "#this step follows the conversion of the data column in the datafram to datetime correct format keeping the infer_datetime_format to true.\n",
        "#This allows Pandas to automatically infer the format of the datetime strings in the column, which can speed up the conversion process.\n",
        "df['Date'] = pd.to_datetime(df['Date'],infer_datetime_format=True,errors='coerce')"
      ],
      "metadata": {
        "colab": {
          "base_uri": "https://localhost:8080/"
        },
        "id": "asRWgaMrvPRt",
        "outputId": "4df9efa2-d87c-4deb-fa76-4fe7456bb0ec"
      },
      "execution_count": 3,
      "outputs": [
        {
          "output_type": "stream",
          "name": "stderr",
          "text": [
            "<ipython-input-3-7bfc7a1ab077>:3: UserWarning: The argument 'infer_datetime_format' is deprecated and will be removed in a future version. A strict version of it is now the default, see https://pandas.pydata.org/pdeps/0004-consistent-to-datetime-parsing.html. You can safely remove this argument.\n",
            "  df['Date'] = pd.to_datetime(df['Date'],infer_datetime_format=True,errors='coerce')\n"
          ]
        }
      ]
    },
    {
      "cell_type": "code",
      "source": [
        "#Applying the df_filtered on the date column to extract the timings between 07:00:00 to 23:59:59 and specifically for days that are Tuesday and Fiday\n",
        "df_filtered = df[(df['Date'].dt.hour >=7) & (df['Date'].dt.hour <= 23)\n",
        "& (df['Date'].dt.weekday.isin([1,4]))] #1 for Tuesday and 4 for Friday"
      ],
      "metadata": {
        "id": "IbGNFmG9siNc"
      },
      "execution_count": 4,
      "outputs": []
    },
    {
      "cell_type": "code",
      "source": [
        "#Creating a column hour for the df_filtered dataframe and adding that to the dataframe to display the hour of the day\n",
        "df_filtered['Hour'] = df_filtered['Date'].dt.hour"
      ],
      "metadata": {
        "colab": {
          "base_uri": "https://localhost:8080/"
        },
        "id": "wYDRj9xOvbxc",
        "outputId": "faf2c72e-b3c7-454d-b95f-07acf6a0699d"
      },
      "execution_count": 5,
      "outputs": [
        {
          "output_type": "stream",
          "name": "stderr",
          "text": [
            "<ipython-input-5-edd561355f4e>:2: SettingWithCopyWarning: \n",
            "A value is trying to be set on a copy of a slice from a DataFrame.\n",
            "Try using .loc[row_indexer,col_indexer] = value instead\n",
            "\n",
            "See the caveats in the documentation: https://pandas.pydata.org/pandas-docs/stable/user_guide/indexing.html#returning-a-view-versus-a-copy\n",
            "  df_filtered['Hour'] = df_filtered['Date'].dt.hour\n"
          ]
        }
      ]
    },
    {
      "cell_type": "code",
      "source": [
        "#viewing some rows for the filtered data frame created\n",
        "df_filtered.head()"
      ],
      "metadata": {
        "colab": {
          "base_uri": "https://localhost:8080/",
          "height": 310
        },
        "id": "82-62p1m1DHM",
        "outputId": "6bf7d174-bd77-4922-8d01-65025ac27ec5"
      },
      "execution_count": 6,
      "outputs": [
        {
          "output_type": "execute_result",
          "data": {
            "text/plain": [
              "                        Date  Lane Lane Name  Direction Direction Name  \\\n",
              "3941 2018-02-02 07:00:13.080     5    SB_MID          2          South   \n",
              "3943 2018-02-02 07:00:16.160     5    SB_MID          2          South   \n",
              "3944 2018-02-02 07:00:18.040     6     SB_NS          2          South   \n",
              "3946 2018-02-02 07:00:27.080     5    SB_MID          2          South   \n",
              "3947 2018-02-02 07:00:27.090     2    NB_MID          1          North   \n",
              "\n",
              "      Speed (mph)  Headway (s)  Gap (s)  Flags  Flag Text  Hour  \n",
              "3941       39.146          NaN      NaN      0        NaN     7  \n",
              "3943       37.903        2.951      NaN      0        NaN     7  \n",
              "3944       43.495        2.494    2.178      0        NaN     7  \n",
              "3946       34.798        2.154   10.940      0        NaN     7  \n",
              "3947       27.340          NaN      NaN      0        NaN     7  "
            ],
            "text/html": [
              "\n",
              "  <div id=\"df-b2b8d385-f125-4669-96ab-37c179bd8b11\" class=\"colab-df-container\">\n",
              "    <div>\n",
              "<style scoped>\n",
              "    .dataframe tbody tr th:only-of-type {\n",
              "        vertical-align: middle;\n",
              "    }\n",
              "\n",
              "    .dataframe tbody tr th {\n",
              "        vertical-align: top;\n",
              "    }\n",
              "\n",
              "    .dataframe thead th {\n",
              "        text-align: right;\n",
              "    }\n",
              "</style>\n",
              "<table border=\"1\" class=\"dataframe\">\n",
              "  <thead>\n",
              "    <tr style=\"text-align: right;\">\n",
              "      <th></th>\n",
              "      <th>Date</th>\n",
              "      <th>Lane</th>\n",
              "      <th>Lane Name</th>\n",
              "      <th>Direction</th>\n",
              "      <th>Direction Name</th>\n",
              "      <th>Speed (mph)</th>\n",
              "      <th>Headway (s)</th>\n",
              "      <th>Gap (s)</th>\n",
              "      <th>Flags</th>\n",
              "      <th>Flag Text</th>\n",
              "      <th>Hour</th>\n",
              "    </tr>\n",
              "  </thead>\n",
              "  <tbody>\n",
              "    <tr>\n",
              "      <th>3941</th>\n",
              "      <td>2018-02-02 07:00:13.080</td>\n",
              "      <td>5</td>\n",
              "      <td>SB_MID</td>\n",
              "      <td>2</td>\n",
              "      <td>South</td>\n",
              "      <td>39.146</td>\n",
              "      <td>NaN</td>\n",
              "      <td>NaN</td>\n",
              "      <td>0</td>\n",
              "      <td>NaN</td>\n",
              "      <td>7</td>\n",
              "    </tr>\n",
              "    <tr>\n",
              "      <th>3943</th>\n",
              "      <td>2018-02-02 07:00:16.160</td>\n",
              "      <td>5</td>\n",
              "      <td>SB_MID</td>\n",
              "      <td>2</td>\n",
              "      <td>South</td>\n",
              "      <td>37.903</td>\n",
              "      <td>2.951</td>\n",
              "      <td>NaN</td>\n",
              "      <td>0</td>\n",
              "      <td>NaN</td>\n",
              "      <td>7</td>\n",
              "    </tr>\n",
              "    <tr>\n",
              "      <th>3944</th>\n",
              "      <td>2018-02-02 07:00:18.040</td>\n",
              "      <td>6</td>\n",
              "      <td>SB_NS</td>\n",
              "      <td>2</td>\n",
              "      <td>South</td>\n",
              "      <td>43.495</td>\n",
              "      <td>2.494</td>\n",
              "      <td>2.178</td>\n",
              "      <td>0</td>\n",
              "      <td>NaN</td>\n",
              "      <td>7</td>\n",
              "    </tr>\n",
              "    <tr>\n",
              "      <th>3946</th>\n",
              "      <td>2018-02-02 07:00:27.080</td>\n",
              "      <td>5</td>\n",
              "      <td>SB_MID</td>\n",
              "      <td>2</td>\n",
              "      <td>South</td>\n",
              "      <td>34.798</td>\n",
              "      <td>2.154</td>\n",
              "      <td>10.940</td>\n",
              "      <td>0</td>\n",
              "      <td>NaN</td>\n",
              "      <td>7</td>\n",
              "    </tr>\n",
              "    <tr>\n",
              "      <th>3947</th>\n",
              "      <td>2018-02-02 07:00:27.090</td>\n",
              "      <td>2</td>\n",
              "      <td>NB_MID</td>\n",
              "      <td>1</td>\n",
              "      <td>North</td>\n",
              "      <td>27.340</td>\n",
              "      <td>NaN</td>\n",
              "      <td>NaN</td>\n",
              "      <td>0</td>\n",
              "      <td>NaN</td>\n",
              "      <td>7</td>\n",
              "    </tr>\n",
              "  </tbody>\n",
              "</table>\n",
              "</div>\n",
              "    <div class=\"colab-df-buttons\">\n",
              "\n",
              "  <div class=\"colab-df-container\">\n",
              "    <button class=\"colab-df-convert\" onclick=\"convertToInteractive('df-b2b8d385-f125-4669-96ab-37c179bd8b11')\"\n",
              "            title=\"Convert this dataframe to an interactive table.\"\n",
              "            style=\"display:none;\">\n",
              "\n",
              "  <svg xmlns=\"http://www.w3.org/2000/svg\" height=\"24px\" viewBox=\"0 -960 960 960\">\n",
              "    <path d=\"M120-120v-720h720v720H120Zm60-500h600v-160H180v160Zm220 220h160v-160H400v160Zm0 220h160v-160H400v160ZM180-400h160v-160H180v160Zm440 0h160v-160H620v160ZM180-180h160v-160H180v160Zm440 0h160v-160H620v160Z\"/>\n",
              "  </svg>\n",
              "    </button>\n",
              "\n",
              "  <style>\n",
              "    .colab-df-container {\n",
              "      display:flex;\n",
              "      gap: 12px;\n",
              "    }\n",
              "\n",
              "    .colab-df-convert {\n",
              "      background-color: #E8F0FE;\n",
              "      border: none;\n",
              "      border-radius: 50%;\n",
              "      cursor: pointer;\n",
              "      display: none;\n",
              "      fill: #1967D2;\n",
              "      height: 32px;\n",
              "      padding: 0 0 0 0;\n",
              "      width: 32px;\n",
              "    }\n",
              "\n",
              "    .colab-df-convert:hover {\n",
              "      background-color: #E2EBFA;\n",
              "      box-shadow: 0px 1px 2px rgba(60, 64, 67, 0.3), 0px 1px 3px 1px rgba(60, 64, 67, 0.15);\n",
              "      fill: #174EA6;\n",
              "    }\n",
              "\n",
              "    .colab-df-buttons div {\n",
              "      margin-bottom: 4px;\n",
              "    }\n",
              "\n",
              "    [theme=dark] .colab-df-convert {\n",
              "      background-color: #3B4455;\n",
              "      fill: #D2E3FC;\n",
              "    }\n",
              "\n",
              "    [theme=dark] .colab-df-convert:hover {\n",
              "      background-color: #434B5C;\n",
              "      box-shadow: 0px 1px 3px 1px rgba(0, 0, 0, 0.15);\n",
              "      filter: drop-shadow(0px 1px 2px rgba(0, 0, 0, 0.3));\n",
              "      fill: #FFFFFF;\n",
              "    }\n",
              "  </style>\n",
              "\n",
              "    <script>\n",
              "      const buttonEl =\n",
              "        document.querySelector('#df-b2b8d385-f125-4669-96ab-37c179bd8b11 button.colab-df-convert');\n",
              "      buttonEl.style.display =\n",
              "        google.colab.kernel.accessAllowed ? 'block' : 'none';\n",
              "\n",
              "      async function convertToInteractive(key) {\n",
              "        const element = document.querySelector('#df-b2b8d385-f125-4669-96ab-37c179bd8b11');\n",
              "        const dataTable =\n",
              "          await google.colab.kernel.invokeFunction('convertToInteractive',\n",
              "                                                    [key], {});\n",
              "        if (!dataTable) return;\n",
              "\n",
              "        const docLinkHtml = 'Like what you see? Visit the ' +\n",
              "          '<a target=\"_blank\" href=https://colab.research.google.com/notebooks/data_table.ipynb>data table notebook</a>'\n",
              "          + ' to learn more about interactive tables.';\n",
              "        element.innerHTML = '';\n",
              "        dataTable['output_type'] = 'display_data';\n",
              "        await google.colab.output.renderOutput(dataTable, element);\n",
              "        const docLink = document.createElement('div');\n",
              "        docLink.innerHTML = docLinkHtml;\n",
              "        element.appendChild(docLink);\n",
              "      }\n",
              "    </script>\n",
              "  </div>\n",
              "\n",
              "\n",
              "<div id=\"df-e5004497-54d1-4b60-b64a-08d47b4b4cea\">\n",
              "  <button class=\"colab-df-quickchart\" onclick=\"quickchart('df-e5004497-54d1-4b60-b64a-08d47b4b4cea')\"\n",
              "            title=\"Suggest charts\"\n",
              "            style=\"display:none;\">\n",
              "\n",
              "<svg xmlns=\"http://www.w3.org/2000/svg\" height=\"24px\"viewBox=\"0 0 24 24\"\n",
              "     width=\"24px\">\n",
              "    <g>\n",
              "        <path d=\"M19 3H5c-1.1 0-2 .9-2 2v14c0 1.1.9 2 2 2h14c1.1 0 2-.9 2-2V5c0-1.1-.9-2-2-2zM9 17H7v-7h2v7zm4 0h-2V7h2v10zm4 0h-2v-4h2v4z\"/>\n",
              "    </g>\n",
              "</svg>\n",
              "  </button>\n",
              "\n",
              "<style>\n",
              "  .colab-df-quickchart {\n",
              "      --bg-color: #E8F0FE;\n",
              "      --fill-color: #1967D2;\n",
              "      --hover-bg-color: #E2EBFA;\n",
              "      --hover-fill-color: #174EA6;\n",
              "      --disabled-fill-color: #AAA;\n",
              "      --disabled-bg-color: #DDD;\n",
              "  }\n",
              "\n",
              "  [theme=dark] .colab-df-quickchart {\n",
              "      --bg-color: #3B4455;\n",
              "      --fill-color: #D2E3FC;\n",
              "      --hover-bg-color: #434B5C;\n",
              "      --hover-fill-color: #FFFFFF;\n",
              "      --disabled-bg-color: #3B4455;\n",
              "      --disabled-fill-color: #666;\n",
              "  }\n",
              "\n",
              "  .colab-df-quickchart {\n",
              "    background-color: var(--bg-color);\n",
              "    border: none;\n",
              "    border-radius: 50%;\n",
              "    cursor: pointer;\n",
              "    display: none;\n",
              "    fill: var(--fill-color);\n",
              "    height: 32px;\n",
              "    padding: 0;\n",
              "    width: 32px;\n",
              "  }\n",
              "\n",
              "  .colab-df-quickchart:hover {\n",
              "    background-color: var(--hover-bg-color);\n",
              "    box-shadow: 0 1px 2px rgba(60, 64, 67, 0.3), 0 1px 3px 1px rgba(60, 64, 67, 0.15);\n",
              "    fill: var(--button-hover-fill-color);\n",
              "  }\n",
              "\n",
              "  .colab-df-quickchart-complete:disabled,\n",
              "  .colab-df-quickchart-complete:disabled:hover {\n",
              "    background-color: var(--disabled-bg-color);\n",
              "    fill: var(--disabled-fill-color);\n",
              "    box-shadow: none;\n",
              "  }\n",
              "\n",
              "  .colab-df-spinner {\n",
              "    border: 2px solid var(--fill-color);\n",
              "    border-color: transparent;\n",
              "    border-bottom-color: var(--fill-color);\n",
              "    animation:\n",
              "      spin 1s steps(1) infinite;\n",
              "  }\n",
              "\n",
              "  @keyframes spin {\n",
              "    0% {\n",
              "      border-color: transparent;\n",
              "      border-bottom-color: var(--fill-color);\n",
              "      border-left-color: var(--fill-color);\n",
              "    }\n",
              "    20% {\n",
              "      border-color: transparent;\n",
              "      border-left-color: var(--fill-color);\n",
              "      border-top-color: var(--fill-color);\n",
              "    }\n",
              "    30% {\n",
              "      border-color: transparent;\n",
              "      border-left-color: var(--fill-color);\n",
              "      border-top-color: var(--fill-color);\n",
              "      border-right-color: var(--fill-color);\n",
              "    }\n",
              "    40% {\n",
              "      border-color: transparent;\n",
              "      border-right-color: var(--fill-color);\n",
              "      border-top-color: var(--fill-color);\n",
              "    }\n",
              "    60% {\n",
              "      border-color: transparent;\n",
              "      border-right-color: var(--fill-color);\n",
              "    }\n",
              "    80% {\n",
              "      border-color: transparent;\n",
              "      border-right-color: var(--fill-color);\n",
              "      border-bottom-color: var(--fill-color);\n",
              "    }\n",
              "    90% {\n",
              "      border-color: transparent;\n",
              "      border-bottom-color: var(--fill-color);\n",
              "    }\n",
              "  }\n",
              "</style>\n",
              "\n",
              "  <script>\n",
              "    async function quickchart(key) {\n",
              "      const quickchartButtonEl =\n",
              "        document.querySelector('#' + key + ' button');\n",
              "      quickchartButtonEl.disabled = true;  // To prevent multiple clicks.\n",
              "      quickchartButtonEl.classList.add('colab-df-spinner');\n",
              "      try {\n",
              "        const charts = await google.colab.kernel.invokeFunction(\n",
              "            'suggestCharts', [key], {});\n",
              "      } catch (error) {\n",
              "        console.error('Error during call to suggestCharts:', error);\n",
              "      }\n",
              "      quickchartButtonEl.classList.remove('colab-df-spinner');\n",
              "      quickchartButtonEl.classList.add('colab-df-quickchart-complete');\n",
              "    }\n",
              "    (() => {\n",
              "      let quickchartButtonEl =\n",
              "        document.querySelector('#df-e5004497-54d1-4b60-b64a-08d47b4b4cea button');\n",
              "      quickchartButtonEl.style.display =\n",
              "        google.colab.kernel.accessAllowed ? 'block' : 'none';\n",
              "    })();\n",
              "  </script>\n",
              "</div>\n",
              "\n",
              "    </div>\n",
              "  </div>\n"
            ],
            "application/vnd.google.colaboratory.intrinsic+json": {
              "type": "dataframe",
              "variable_name": "df_filtered"
            }
          },
          "metadata": {},
          "execution_count": 6
        }
      ]
    },
    {
      "cell_type": "code",
      "source": [
        "#now in order to calculate traffic volume, the groupby function grouped the data according to the day of the week along with specified hour.\n",
        "#(dt.weekday, where 1 = Tuesday and 4 = Friday) and the hour (Hour column).\n",
        "traffic_volume = df_filtered.groupby([df_filtered['Date'].dt.weekday, 'Hour']).size().unstack(fill_value=0)"
      ],
      "metadata": {
        "id": "EyBdCGBB1ITf"
      },
      "execution_count": 7,
      "outputs": []
    },
    {
      "cell_type": "code",
      "source": [
        "\n",
        "#calculating the average per hour by calculation of the mean for 1- tuesday and 4- friday\n",
        "average_traffic_tuesday = traffic_volume.loc[1].mean(axis=0)\n",
        "average_traffic_friday = traffic_volume.loc[4].mean(axis=0)"
      ],
      "metadata": {
        "id": "B4Ml2nHh2b4A"
      },
      "execution_count": 8,
      "outputs": []
    },
    {
      "cell_type": "code",
      "source": [
        "# Function to calculate average traffic volume per hour for a given weekday\n",
        "def average_traffic_volume_by_hour(weekday):\n",
        "    # Filter by weekday: 1 for Tuesday, 4 for Friday (0 = Monday, 1 = Tuesday, ..., 6 = Sunday)\n",
        "    df_weekday = df_filtered[df_filtered['Date'].dt.weekday == weekday]\n",
        "\n",
        "    # Group by hour and count the number of vehicles per hour\n",
        "    traffic_per_hour = df_weekday.groupby(df_weekday['Date'].dt.hour).size()\n",
        "\n",
        "    # Calculate the average traffic volume per hour\n",
        "    avg_traffic_per_hour = traffic_per_hour.mean()\n",
        "\n",
        "    return traffic_per_hour, avg_traffic_per_hour"
      ],
      "metadata": {
        "id": "ktus27wY4ZU2"
      },
      "execution_count": 9,
      "outputs": []
    },
    {
      "cell_type": "code",
      "source": [
        "# Calculate for Tuesday (weekday = 1)\n",
        "traffic_tuesday, avg_traffic_tuesday = average_traffic_volume_by_hour(1)\n",
        "\n",
        "# Calculate for Friday (weekday = 4)\n",
        "traffic_friday, avg_traffic_friday = average_traffic_volume_by_hour(4)"
      ],
      "metadata": {
        "id": "rAx4a6854fiA"
      },
      "execution_count": 10,
      "outputs": []
    },
    {
      "cell_type": "code",
      "source": [
        "# Display the traffic volumes and averages for Tuesday and Friday\n",
        "print(\"Tuesday Traffic Volume Per Hour:\")\n",
        "print(traffic_tuesday)\n",
        "print(f\"Average Traffic Volume on Tuesday: {avg_traffic_tuesday}\\n\")\n",
        "\n",
        "print(\"Friday Traffic Volume Per Hour:\")\n",
        "print(traffic_friday)\n",
        "print(f\"Average Traffic Volume on Friday: {avg_traffic_friday}\\n\")"
      ],
      "metadata": {
        "colab": {
          "base_uri": "https://localhost:8080/"
        },
        "id": "MePWeUWv4jNc",
        "outputId": "10c8f118-ea6c-48b2-a43a-7c900e849ba3"
      },
      "execution_count": 11,
      "outputs": [
        {
          "output_type": "stream",
          "name": "stdout",
          "text": [
            "Tuesday Traffic Volume Per Hour:\n",
            "Date\n",
            "7     17875\n",
            "8     17517\n",
            "9     14305\n",
            "10    11388\n",
            "11    11472\n",
            "12    12257\n",
            "13    12460\n",
            "14    13078\n",
            "15    15389\n",
            "16    19559\n",
            "17    19652\n",
            "18    16073\n",
            "19    10560\n",
            "20     7113\n",
            "21     5398\n",
            "22     3820\n",
            "23     2105\n",
            "dtype: int64\n",
            "Average Traffic Volume on Tuesday: 12354.176470588236\n",
            "\n",
            "Friday Traffic Volume Per Hour:\n",
            "Date\n",
            "7     17281\n",
            "8     17095\n",
            "9     13974\n",
            "10    11767\n",
            "11    12681\n",
            "12    13958\n",
            "13    14263\n",
            "14    15133\n",
            "15    16905\n",
            "16    19325\n",
            "17    18613\n",
            "18    13854\n",
            "19     9963\n",
            "20     7318\n",
            "21     5493\n",
            "22     5025\n",
            "23     3748\n",
            "dtype: int64\n",
            "Average Traffic Volume on Friday: 12729.176470588236\n",
            "\n"
          ]
        }
      ]
    },
    {
      "cell_type": "code",
      "source": [
        "#followed by the displaying of the calculated traffic volume for tuesday and friday\n",
        "print(\"Average traffic volume per hour on Tuesday: \\n\", average_traffic_tuesday)\n",
        "print(\"Average traffic volume per hour on Friday: \\n\", average_traffic_friday)"
      ],
      "metadata": {
        "colab": {
          "base_uri": "https://localhost:8080/"
        },
        "id": "mcGkEIhW2xZx",
        "outputId": "1a926838-891d-43ae-d959-c08a4a707d2a"
      },
      "execution_count": 12,
      "outputs": [
        {
          "output_type": "stream",
          "name": "stdout",
          "text": [
            "Average traffic volume per hour on Tuesday: \n",
            " 12354.176470588236\n",
            "Average traffic volume per hour on Friday: \n",
            " 12729.176470588236\n"
          ]
        }
      ]
    }
  ]
}